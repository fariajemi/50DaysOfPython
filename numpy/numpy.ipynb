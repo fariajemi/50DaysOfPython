{
 "cells": [
  {
   "cell_type": "code",
   "execution_count": 2,
   "metadata": {},
   "outputs": [],
   "source": [
    "import numpy as np\n",
    "a=np.zeros([1,2,4])"
   ]
  },
  {
   "cell_type": "code",
   "execution_count": 3,
   "metadata": {},
   "outputs": [
    {
     "data": {
      "text/plain": [
       "array([[[0., 0., 0., 0.],\n",
       "        [0., 0., 0., 0.]]])"
      ]
     },
     "execution_count": 3,
     "metadata": {},
     "output_type": "execute_result"
    }
   ],
   "source": [
    "a\n"
   ]
  },
  {
   "cell_type": "code",
   "execution_count": 4,
   "metadata": {},
   "outputs": [
    {
     "data": {
      "text/plain": [
       "array([[[0., 0., 0., 0.],\n",
       "        [0., 0., 0., 0.],\n",
       "        [0., 0., 0., 0.]],\n",
       "\n",
       "       [[0., 0., 0., 0.],\n",
       "        [0., 0., 0., 0.],\n",
       "        [0., 0., 0., 0.]]])"
      ]
     },
     "execution_count": 4,
     "metadata": {},
     "output_type": "execute_result"
    }
   ],
   "source": [
    "a=np.zeros((2,3,4))\n",
    "a"
   ]
  },
  {
   "cell_type": "code",
   "execution_count": 5,
   "metadata": {},
   "outputs": [
    {
     "data": {
      "text/plain": [
       "array([[[1., 1., 1., 1.],\n",
       "        [1., 1., 1., 1.],\n",
       "        [1., 1., 1., 1.]],\n",
       "\n",
       "       [[1., 1., 1., 1.],\n",
       "        [1., 1., 1., 1.],\n",
       "        [1., 1., 1., 1.]]])"
      ]
     },
     "execution_count": 5,
     "metadata": {},
     "output_type": "execute_result"
    }
   ],
   "source": [
    "b=np.ones((2,3,4))\n",
    "b"
   ]
  },
  {
   "cell_type": "code",
   "execution_count": 6,
   "metadata": {},
   "outputs": [],
   "source": [
    "b=np.ones((2,2,3),dtype=int)\n"
   ]
  },
  {
   "cell_type": "code",
   "execution_count": 7,
   "metadata": {},
   "outputs": [
    {
     "data": {
      "text/plain": [
       "array([[[1, 1, 1],\n",
       "        [1, 1, 1]],\n",
       "\n",
       "       [[1, 1, 1],\n",
       "        [1, 1, 1]]])"
      ]
     },
     "execution_count": 7,
     "metadata": {},
     "output_type": "execute_result"
    }
   ],
   "source": [
    "b"
   ]
  },
  {
   "cell_type": "code",
   "execution_count": 8,
   "metadata": {},
   "outputs": [
    {
     "data": {
      "text/plain": [
       "array([['ফতুমি', 'ফতুমি'],\n",
       "       ['ফতুমি', 'ফতুমি']], dtype='<U7')"
      ]
     },
     "execution_count": 8,
     "metadata": {},
     "output_type": "execute_result"
    }
   ],
   "source": [
    "c=np.full((2,2),\"ফতুমি\", dtype='<U7')\n",
    "c"
   ]
  },
  {
   "cell_type": "code",
   "execution_count": 9,
   "metadata": {},
   "outputs": [
    {
     "data": {
      "text/plain": [
       "array([['Fuck Yo', 'Fuck Yo', 'Fuck Yo'],\n",
       "       ['Fuck Yo', 'Fuck Yo', 'Fuck Yo']], dtype='<U7')"
      ]
     },
     "execution_count": 9,
     "metadata": {},
     "output_type": "execute_result"
    }
   ],
   "source": [
    "c=np.full((2,3),\"Fuck You\",dtype='<U7')\n",
    "c"
   ]
  },
  {
   "cell_type": "code",
   "execution_count": 10,
   "metadata": {},
   "outputs": [
    {
     "data": {
      "text/plain": [
       "0"
      ]
     },
     "execution_count": 10,
     "metadata": {},
     "output_type": "execute_result"
    }
   ],
   "source": [
    "np.random.randint(10)"
   ]
  },
  {
   "cell_type": "code",
   "execution_count": 11,
   "metadata": {},
   "outputs": [
    {
     "data": {
      "text/plain": [
       "8"
      ]
     },
     "execution_count": 11,
     "metadata": {},
     "output_type": "execute_result"
    }
   ],
   "source": [
    "np.random.randint(10)"
   ]
  },
  {
   "cell_type": "code",
   "execution_count": 15,
   "metadata": {},
   "outputs": [
    {
     "ename": "TypeError",
     "evalue": "'int' object is not callable",
     "output_type": "error",
     "traceback": [
      "\u001b[1;31m---------------------------------------------------------------------------\u001b[0m",
      "\u001b[1;31mTypeError\u001b[0m                                 Traceback (most recent call last)",
      "\u001b[1;32m<ipython-input-15-35b220025ec9>\u001b[0m in \u001b[0;36m<module>\u001b[1;34m()\u001b[0m\n\u001b[1;32m----> 1\u001b[1;33m \u001b[0mdata\u001b[0m\u001b[1;33m=\u001b[0m\u001b[0mnp\u001b[0m\u001b[1;33m.\u001b[0m\u001b[0mrandom\u001b[0m\u001b[1;33m.\u001b[0m\u001b[0mrandint\u001b[0m\u001b[1;33m(\u001b[0m\u001b[1;36m5\u001b[0m\u001b[1;33m,\u001b[0m\u001b[1;36m10\u001b[0m\u001b[1;33m(\u001b[0m\u001b[1;36m10\u001b[0m\u001b[1;33m,\u001b[0m\u001b[1;36m10\u001b[0m\u001b[1;33m)\u001b[0m\u001b[1;33m)\u001b[0m\u001b[1;33m\u001b[0m\u001b[0m\n\u001b[0m\u001b[0;32m      2\u001b[0m \u001b[0mdata\u001b[0m\u001b[1;33m\u001b[0m\u001b[0m\n",
      "\u001b[1;31mTypeError\u001b[0m: 'int' object is not callable"
     ]
    }
   ],
   "source": [
    "data=np.random.randint(5,10(10,10))\n",
    "data"
   ]
  },
  {
   "cell_type": "code",
   "execution_count": 16,
   "metadata": {},
   "outputs": [
    {
     "ename": "NameError",
     "evalue": "name 'data' is not defined",
     "output_type": "error",
     "traceback": [
      "\u001b[1;31m---------------------------------------------------------------------------\u001b[0m",
      "\u001b[1;31mNameError\u001b[0m                                 Traceback (most recent call last)",
      "\u001b[1;32m<ipython-input-16-018f38f339c8>\u001b[0m in \u001b[0;36m<module>\u001b[1;34m()\u001b[0m\n\u001b[1;32m----> 1\u001b[1;33m \u001b[0mdata\u001b[0m\u001b[1;33m[\u001b[0m\u001b[1;36m4\u001b[0m\u001b[1;33m:\u001b[0m\u001b[1;36m8\u001b[0m\u001b[1;33m]\u001b[0m\u001b[1;33m\u001b[0m\u001b[0m\n\u001b[0m",
      "\u001b[1;31mNameError\u001b[0m: name 'data' is not defined"
     ]
    }
   ],
   "source": [
    "data[4:8]"
   ]
  },
  {
   "cell_type": "code",
   "execution_count": 17,
   "metadata": {},
   "outputs": [],
   "source": [
    "data=np.random.randint(5,10,(10,10))"
   ]
  },
  {
   "cell_type": "code",
   "execution_count": 18,
   "metadata": {},
   "outputs": [
    {
     "data": {
      "text/plain": [
       "array([[8, 9, 5, 5, 8, 9, 5, 5, 5, 6],\n",
       "       [6, 6, 7, 9, 6, 7, 6, 8, 8, 7],\n",
       "       [8, 9, 5, 9, 9, 8, 9, 5, 9, 5],\n",
       "       [8, 5, 7, 9, 9, 8, 9, 7, 8, 6],\n",
       "       [9, 8, 6, 6, 9, 9, 8, 9, 9, 5],\n",
       "       [7, 7, 8, 7, 5, 8, 7, 5, 6, 9],\n",
       "       [7, 8, 8, 9, 9, 7, 6, 5, 6, 7],\n",
       "       [7, 9, 8, 9, 8, 6, 8, 9, 9, 9],\n",
       "       [5, 6, 5, 7, 8, 6, 7, 6, 9, 6],\n",
       "       [7, 7, 9, 5, 9, 5, 7, 6, 9, 5]])"
      ]
     },
     "execution_count": 18,
     "metadata": {},
     "output_type": "execute_result"
    }
   ],
   "source": [
    "data"
   ]
  },
  {
   "cell_type": "code",
   "execution_count": 19,
   "metadata": {},
   "outputs": [
    {
     "data": {
      "text/plain": [
       "array([[9, 8, 6, 6, 9, 9, 8, 9, 9, 5],\n",
       "       [7, 7, 8, 7, 5, 8, 7, 5, 6, 9],\n",
       "       [7, 8, 8, 9, 9, 7, 6, 5, 6, 7],\n",
       "       [7, 9, 8, 9, 8, 6, 8, 9, 9, 9]])"
      ]
     },
     "execution_count": 19,
     "metadata": {},
     "output_type": "execute_result"
    }
   ],
   "source": [
    "data[4:8]"
   ]
  },
  {
   "cell_type": "code",
   "execution_count": 20,
   "metadata": {},
   "outputs": [
    {
     "data": {
      "text/plain": [
       "array([[9, 9],\n",
       "       [5, 8],\n",
       "       [9, 7],\n",
       "       [8, 6]])"
      ]
     },
     "execution_count": 20,
     "metadata": {},
     "output_type": "execute_result"
    }
   ],
   "source": [
    "data[4:8,4:6]"
   ]
  },
  {
   "cell_type": "code",
   "execution_count": 21,
   "metadata": {},
   "outputs": [
    {
     "data": {
      "text/plain": [
       "array([[9, 9],\n",
       "       [5, 8]])"
      ]
     },
     "execution_count": 21,
     "metadata": {},
     "output_type": "execute_result"
    }
   ],
   "source": [
    "data[4:6,4:6]"
   ]
  },
  {
   "cell_type": "code",
   "execution_count": 22,
   "metadata": {},
   "outputs": [],
   "source": [
    "data1=np.random.randint(5,15,size=(5,3))"
   ]
  },
  {
   "cell_type": "code",
   "execution_count": 23,
   "metadata": {},
   "outputs": [
    {
     "data": {
      "text/plain": [
       "array([[12, 11, 12],\n",
       "       [13, 11, 11],\n",
       "       [ 8,  7,  8],\n",
       "       [ 8,  8, 14],\n",
       "       [ 6, 10,  7]])"
      ]
     },
     "execution_count": 23,
     "metadata": {},
     "output_type": "execute_result"
    }
   ],
   "source": [
    "data2=np.random.randint(5,15,size=(5,3))\n",
    "data1\n",
    "data2"
   ]
  },
  {
   "cell_type": "code",
   "execution_count": 24,
   "metadata": {},
   "outputs": [
    {
     "data": {
      "text/plain": [
       "array([[12,  5,  6],\n",
       "       [14,  7, 13],\n",
       "       [ 5,  7,  6],\n",
       "       [ 8,  6, 10],\n",
       "       [ 7,  5, 14]])"
      ]
     },
     "execution_count": 24,
     "metadata": {},
     "output_type": "execute_result"
    }
   ],
   "source": [
    "data2\n",
    "data1"
   ]
  },
  {
   "cell_type": "code",
   "execution_count": 25,
   "metadata": {},
   "outputs": [
    {
     "data": {
      "text/plain": [
       "array([[12,  5,  6, 12, 11, 12],\n",
       "       [14,  7, 13, 13, 11, 11],\n",
       "       [ 5,  7,  6,  8,  7,  8],\n",
       "       [ 8,  6, 10,  8,  8, 14],\n",
       "       [ 7,  5, 14,  6, 10,  7]])"
      ]
     },
     "execution_count": 25,
     "metadata": {},
     "output_type": "execute_result"
    }
   ],
   "source": [
    "np.hstack([data1,data2])"
   ]
  },
  {
   "cell_type": "code",
   "execution_count": 26,
   "metadata": {},
   "outputs": [
    {
     "data": {
      "text/plain": [
       "array([[12,  5,  6],\n",
       "       [14,  7, 13],\n",
       "       [ 5,  7,  6],\n",
       "       [ 8,  6, 10],\n",
       "       [ 7,  5, 14],\n",
       "       [12, 11, 12],\n",
       "       [13, 11, 11],\n",
       "       [ 8,  7,  8],\n",
       "       [ 8,  8, 14],\n",
       "       [ 6, 10,  7]])"
      ]
     },
     "execution_count": 26,
     "metadata": {},
     "output_type": "execute_result"
    }
   ],
   "source": [
    "np.vstack([data1,data2])"
   ]
  },
  {
   "cell_type": "code",
   "execution_count": 27,
   "metadata": {},
   "outputs": [
    {
     "data": {
      "text/plain": [
       "array([[12,  5,  6, 12, 11, 12],\n",
       "       [14,  7, 13, 13, 11, 11],\n",
       "       [ 5,  7,  6,  8,  7,  8],\n",
       "       [ 8,  6, 10,  8,  8, 14],\n",
       "       [ 7,  5, 14,  6, 10,  7]])"
      ]
     },
     "execution_count": 27,
     "metadata": {},
     "output_type": "execute_result"
    }
   ],
   "source": [
    "np.concatenate([data1,data2],axis=1)"
   ]
  },
  {
   "cell_type": "code",
   "execution_count": 28,
   "metadata": {},
   "outputs": [
    {
     "data": {
      "text/plain": [
       "array([[[12,  7],\n",
       "        [ 7, 13],\n",
       "        [ 9, 10]],\n",
       "\n",
       "       [[ 8, 12],\n",
       "        [11, 11],\n",
       "        [ 6,  7]],\n",
       "\n",
       "       [[13, 11],\n",
       "        [ 5, 12],\n",
       "        [12,  7]],\n",
       "\n",
       "       [[11, 11],\n",
       "        [14,  6],\n",
       "        [11, 12]],\n",
       "\n",
       "       [[12, 14],\n",
       "        [ 7,  7],\n",
       "        [ 9,  5]]])"
      ]
     },
     "execution_count": 28,
     "metadata": {},
     "output_type": "execute_result"
    }
   ],
   "source": [
    "data1=np.random.randint(5,15,size=(5,3,2))\n",
    "data2=np.random.randint(5,15,size=(5,3,2))\n",
    "data2\n",
    "data1"
   ]
  },
  {
   "cell_type": "code",
   "execution_count": 30,
   "metadata": {},
   "outputs": [
    {
     "data": {
      "text/plain": [
       "array([[[6, 7],\n",
       "        [4, 7],\n",
       "        [6, 3],\n",
       "        [6, 3]],\n",
       "\n",
       "       [[3, 3],\n",
       "        [3, 7],\n",
       "        [3, 4],\n",
       "        [7, 6]],\n",
       "\n",
       "       [[8, 6],\n",
       "        [3, 9],\n",
       "        [6, 4],\n",
       "        [8, 5]]])"
      ]
     },
     "execution_count": 30,
     "metadata": {},
     "output_type": "execute_result"
    }
   ],
   "source": [
    "data1=np.random.randint(3,10,size=(3,4,2))\n",
    "data2=np.random.randint(3,10,size=(3,4,2))\n",
    "data1\n",
    "data2"
   ]
  },
  {
   "cell_type": "code",
   "execution_count": 34,
   "metadata": {},
   "outputs": [
    {
     "data": {
      "text/plain": [
       "array([[[9, 8, 6, 7],\n",
       "        [3, 8, 4, 7],\n",
       "        [9, 5, 6, 3],\n",
       "        [7, 4, 6, 3]],\n",
       "\n",
       "       [[6, 4, 3, 3],\n",
       "        [5, 4, 3, 7],\n",
       "        [4, 6, 3, 4],\n",
       "        [9, 8, 7, 6]],\n",
       "\n",
       "       [[7, 8, 8, 6],\n",
       "        [9, 6, 3, 9],\n",
       "        [9, 7, 6, 4],\n",
       "        [3, 9, 8, 5]]])"
      ]
     },
     "execution_count": 34,
     "metadata": {},
     "output_type": "execute_result"
    }
   ],
   "source": [
    "np.concatenate([data1,data2],axis=2)"
   ]
  },
  {
   "cell_type": "code",
   "execution_count": 35,
   "metadata": {},
   "outputs": [
    {
     "data": {
      "text/plain": [
       "array([[8, 9, 5, 5, 8],\n",
       "       [6, 6, 7, 9, 6],\n",
       "       [8, 9, 5, 9, 9],\n",
       "       [8, 5, 7, 9, 9],\n",
       "       [9, 8, 6, 6, 9],\n",
       "       [7, 7, 8, 7, 5],\n",
       "       [7, 8, 8, 9, 9],\n",
       "       [7, 9, 8, 9, 8],\n",
       "       [5, 6, 5, 7, 8],\n",
       "       [7, 7, 9, 5, 9]])"
      ]
     },
     "execution_count": 35,
     "metadata": {},
     "output_type": "execute_result"
    }
   ],
   "source": [
    "a1,a2=np.hsplit(data,[5])\n",
    "a1"
   ]
  },
  {
   "cell_type": "code",
   "execution_count": 36,
   "metadata": {},
   "outputs": [
    {
     "data": {
      "text/plain": [
       "array([[9, 5, 5, 5, 6],\n",
       "       [7, 6, 8, 8, 7],\n",
       "       [8, 9, 5, 9, 5],\n",
       "       [8, 9, 7, 8, 6],\n",
       "       [9, 8, 9, 9, 5],\n",
       "       [8, 7, 5, 6, 9],\n",
       "       [7, 6, 5, 6, 7],\n",
       "       [6, 8, 9, 9, 9],\n",
       "       [6, 7, 6, 9, 6],\n",
       "       [5, 7, 6, 9, 5]])"
      ]
     },
     "execution_count": 36,
     "metadata": {},
     "output_type": "execute_result"
    }
   ],
   "source": [
    "a2"
   ]
  },
  {
   "cell_type": "code",
   "execution_count": 37,
   "metadata": {},
   "outputs": [
    {
     "data": {
      "text/plain": [
       "array([[8, 9, 5, 5, 8, 9, 5, 5, 5, 6],\n",
       "       [6, 6, 7, 9, 6, 7, 6, 8, 8, 7],\n",
       "       [8, 9, 5, 9, 9, 8, 9, 5, 9, 5],\n",
       "       [8, 5, 7, 9, 9, 8, 9, 7, 8, 6],\n",
       "       [9, 8, 6, 6, 9, 9, 8, 9, 9, 5]])"
      ]
     },
     "execution_count": 37,
     "metadata": {},
     "output_type": "execute_result"
    }
   ],
   "source": [
    "b1,b2,b3=np.vsplit(data,[5,7])\n",
    "b1"
   ]
  },
  {
   "cell_type": "code",
   "execution_count": 38,
   "metadata": {},
   "outputs": [
    {
     "data": {
      "text/plain": [
       "array([[7, 7, 8, 7, 5, 8, 7, 5, 6, 9],\n",
       "       [7, 8, 8, 9, 9, 7, 6, 5, 6, 7]])"
      ]
     },
     "execution_count": 38,
     "metadata": {},
     "output_type": "execute_result"
    }
   ],
   "source": [
    "b2"
   ]
  },
  {
   "cell_type": "code",
   "execution_count": 39,
   "metadata": {},
   "outputs": [
    {
     "data": {
      "text/plain": [
       "array([[7, 9, 8, 9, 8, 6, 8, 9, 9, 9],\n",
       "       [5, 6, 5, 7, 8, 6, 7, 6, 9, 6],\n",
       "       [7, 7, 9, 5, 9, 5, 7, 6, 9, 5]])"
      ]
     },
     "execution_count": 39,
     "metadata": {},
     "output_type": "execute_result"
    }
   ],
   "source": [
    "b3"
   ]
  },
  {
   "cell_type": "code",
   "execution_count": 40,
   "metadata": {},
   "outputs": [
    {
     "data": {
      "text/plain": [
       "(10, 10)"
      ]
     },
     "execution_count": 40,
     "metadata": {},
     "output_type": "execute_result"
    }
   ],
   "source": [
    "data.shape"
   ]
  },
  {
   "cell_type": "code",
   "execution_count": 41,
   "metadata": {},
   "outputs": [
    {
     "data": {
      "text/plain": [
       "2"
      ]
     },
     "execution_count": 41,
     "metadata": {},
     "output_type": "execute_result"
    }
   ],
   "source": [
    "data.ndim"
   ]
  },
  {
   "cell_type": "code",
   "execution_count": 42,
   "metadata": {},
   "outputs": [
    {
     "data": {
      "text/plain": [
       "100"
      ]
     },
     "execution_count": 42,
     "metadata": {},
     "output_type": "execute_result"
    }
   ],
   "source": [
    "data.size"
   ]
  },
  {
   "cell_type": "code",
   "execution_count": 44,
   "metadata": {},
   "outputs": [
    {
     "data": {
      "text/plain": [
       "array([[8, 9, 5, 5, 8, 9, 5, 5, 5, 6, 6, 6, 7, 9, 6, 7, 6, 8, 8, 7, 8, 9,\n",
       "        5, 9, 9, 8, 9, 5, 9, 5, 8, 5, 7, 9, 9, 8, 9, 7, 8, 6, 9, 8, 6, 6,\n",
       "        9, 9, 8, 9, 9, 5],\n",
       "       [7, 7, 8, 7, 5, 8, 7, 5, 6, 9, 7, 8, 8, 9, 9, 7, 6, 5, 6, 7, 7, 9,\n",
       "        8, 9, 8, 6, 8, 9, 9, 9, 5, 6, 5, 7, 8, 6, 7, 6, 9, 6, 7, 7, 9, 5,\n",
       "        9, 5, 7, 6, 9, 5]])"
      ]
     },
     "execution_count": 44,
     "metadata": {},
     "output_type": "execute_result"
    }
   ],
   "source": [
    "data.reshape(2,50)"
   ]
  },
  {
   "cell_type": "code",
   "execution_count": 47,
   "metadata": {},
   "outputs": [],
   "source": [
    "d=np.array([1,2,3,4,5,6,7,8,9])\n"
   ]
  },
  {
   "cell_type": "code",
   "execution_count": 48,
   "metadata": {},
   "outputs": [
    {
     "data": {
      "text/plain": [
       "1"
      ]
     },
     "execution_count": 48,
     "metadata": {},
     "output_type": "execute_result"
    }
   ],
   "source": [
    "d.ndim"
   ]
  },
  {
   "cell_type": "code",
   "execution_count": 49,
   "metadata": {},
   "outputs": [
    {
     "data": {
      "text/plain": [
       "1"
      ]
     },
     "execution_count": 49,
     "metadata": {},
     "output_type": "execute_result"
    }
   ],
   "source": [
    "d.ndim"
   ]
  },
  {
   "cell_type": "code",
   "execution_count": 50,
   "metadata": {},
   "outputs": [
    {
     "data": {
      "text/plain": [
       "(9,)"
      ]
     },
     "execution_count": 50,
     "metadata": {},
     "output_type": "execute_result"
    }
   ],
   "source": [
    "d.shape"
   ]
  },
  {
   "cell_type": "code",
   "execution_count": 51,
   "metadata": {},
   "outputs": [
    {
     "data": {
      "text/plain": [
       "9"
      ]
     },
     "execution_count": 51,
     "metadata": {},
     "output_type": "execute_result"
    }
   ],
   "source": [
    "d.size"
   ]
  },
  {
   "cell_type": "code",
   "execution_count": 53,
   "metadata": {},
   "outputs": [
    {
     "ename": "ValueError",
     "evalue": "cannot reshape array of size 9 into shape (1,4)",
     "output_type": "error",
     "traceback": [
      "\u001b[1;31m---------------------------------------------------------------------------\u001b[0m",
      "\u001b[1;31mValueError\u001b[0m                                Traceback (most recent call last)",
      "\u001b[1;32m<ipython-input-53-2674f9518e51>\u001b[0m in \u001b[0;36m<module>\u001b[1;34m()\u001b[0m\n\u001b[1;32m----> 1\u001b[1;33m \u001b[0md\u001b[0m\u001b[1;33m.\u001b[0m\u001b[0mreshape\u001b[0m\u001b[1;33m(\u001b[0m\u001b[1;36m1\u001b[0m\u001b[1;33m,\u001b[0m\u001b[1;36m4\u001b[0m\u001b[1;33m)\u001b[0m\u001b[1;33m\u001b[0m\u001b[0m\n\u001b[0m",
      "\u001b[1;31mValueError\u001b[0m: cannot reshape array of size 9 into shape (1,4)"
     ]
    }
   ],
   "source": [
    "d.reshape(1,4)"
   ]
  },
  {
   "cell_type": "code",
   "execution_count": 54,
   "metadata": {},
   "outputs": [
    {
     "data": {
      "text/plain": [
       "array([[8, 9, 5, 5, 8, 9, 5, 5, 5, 6, 6, 6, 7, 9, 6, 7, 6, 8, 8, 7],\n",
       "       [8, 9, 5, 9, 9, 8, 9, 5, 9, 5, 8, 5, 7, 9, 9, 8, 9, 7, 8, 6],\n",
       "       [9, 8, 6, 6, 9, 9, 8, 9, 9, 5, 7, 7, 8, 7, 5, 8, 7, 5, 6, 9],\n",
       "       [7, 8, 8, 9, 9, 7, 6, 5, 6, 7, 7, 9, 8, 9, 8, 6, 8, 9, 9, 9],\n",
       "       [5, 6, 5, 7, 8, 6, 7, 6, 9, 6, 7, 7, 9, 5, 9, 5, 7, 6, 9, 5]])"
      ]
     },
     "execution_count": 54,
     "metadata": {},
     "output_type": "execute_result"
    }
   ],
   "source": [
    "data.reshape(-2,20)"
   ]
  },
  {
   "cell_type": "code",
   "execution_count": 55,
   "metadata": {},
   "outputs": [
    {
     "data": {
      "text/plain": [
       "array([[8, 9, 5, 5, 8, 9, 5, 5, 5, 6, 6, 6, 7, 9, 6, 7, 6, 8, 8, 7],\n",
       "       [8, 9, 5, 9, 9, 8, 9, 5, 9, 5, 8, 5, 7, 9, 9, 8, 9, 7, 8, 6],\n",
       "       [9, 8, 6, 6, 9, 9, 8, 9, 9, 5, 7, 7, 8, 7, 5, 8, 7, 5, 6, 9],\n",
       "       [7, 8, 8, 9, 9, 7, 6, 5, 6, 7, 7, 9, 8, 9, 8, 6, 8, 9, 9, 9],\n",
       "       [5, 6, 5, 7, 8, 6, 7, 6, 9, 6, 7, 7, 9, 5, 9, 5, 7, 6, 9, 5]])"
      ]
     },
     "execution_count": 55,
     "metadata": {},
     "output_type": "execute_result"
    }
   ],
   "source": [
    "data.reshape(-1,20)"
   ]
  },
  {
   "cell_type": "code",
   "execution_count": 56,
   "metadata": {},
   "outputs": [
    {
     "data": {
      "text/plain": [
       "722"
      ]
     },
     "execution_count": 56,
     "metadata": {},
     "output_type": "execute_result"
    }
   ],
   "source": [
    "np.sum(data)"
   ]
  },
  {
   "cell_type": "code",
   "execution_count": 57,
   "metadata": {},
   "outputs": [
    {
     "data": {
      "text/plain": [
       "array([65, 70, 76, 76, 78, 69, 72, 82, 65, 69])"
      ]
     },
     "execution_count": 57,
     "metadata": {},
     "output_type": "execute_result"
    }
   ],
   "source": [
    "np.sum(data,axis=1)"
   ]
  },
  {
   "cell_type": "code",
   "execution_count": 59,
   "metadata": {},
   "outputs": [
    {
     "data": {
      "text/plain": [
       "array([[8, 9, 5, 5, 8, 9, 5, 5, 5, 6],\n",
       "       [6, 6, 7, 9, 6, 7, 6, 8, 8, 7],\n",
       "       [8, 9, 5, 9, 9, 8, 9, 5, 9, 5],\n",
       "       [8, 5, 7, 9, 9, 8, 9, 7, 8, 6],\n",
       "       [9, 8, 6, 6, 9, 9, 8, 9, 9, 5],\n",
       "       [7, 7, 8, 7, 5, 8, 7, 5, 6, 9],\n",
       "       [7, 8, 8, 9, 9, 7, 6, 5, 6, 7],\n",
       "       [7, 9, 8, 9, 8, 6, 8, 9, 9, 9],\n",
       "       [5, 6, 5, 7, 8, 6, 7, 6, 9, 6],\n",
       "       [7, 7, 9, 5, 9, 5, 7, 6, 9, 5]])"
      ]
     },
     "execution_count": 59,
     "metadata": {},
     "output_type": "execute_result"
    }
   ],
   "source": [
    "data"
   ]
  },
  {
   "cell_type": "code",
   "execution_count": 60,
   "metadata": {},
   "outputs": [
    {
     "data": {
      "text/plain": [
       "array([[ 0.98935825,  0.41211849, -0.95892427, -0.95892427,  0.98935825,\n",
       "         0.41211849, -0.95892427, -0.95892427, -0.95892427, -0.2794155 ],\n",
       "       [-0.2794155 , -0.2794155 ,  0.6569866 ,  0.41211849, -0.2794155 ,\n",
       "         0.6569866 , -0.2794155 ,  0.98935825,  0.98935825,  0.6569866 ],\n",
       "       [ 0.98935825,  0.41211849, -0.95892427,  0.41211849,  0.41211849,\n",
       "         0.98935825,  0.41211849, -0.95892427,  0.41211849, -0.95892427],\n",
       "       [ 0.98935825, -0.95892427,  0.6569866 ,  0.41211849,  0.41211849,\n",
       "         0.98935825,  0.41211849,  0.6569866 ,  0.98935825, -0.2794155 ],\n",
       "       [ 0.41211849,  0.98935825, -0.2794155 , -0.2794155 ,  0.41211849,\n",
       "         0.41211849,  0.98935825,  0.41211849,  0.41211849, -0.95892427],\n",
       "       [ 0.6569866 ,  0.6569866 ,  0.98935825,  0.6569866 , -0.95892427,\n",
       "         0.98935825,  0.6569866 , -0.95892427, -0.2794155 ,  0.41211849],\n",
       "       [ 0.6569866 ,  0.98935825,  0.98935825,  0.41211849,  0.41211849,\n",
       "         0.6569866 , -0.2794155 , -0.95892427, -0.2794155 ,  0.6569866 ],\n",
       "       [ 0.6569866 ,  0.41211849,  0.98935825,  0.41211849,  0.98935825,\n",
       "        -0.2794155 ,  0.98935825,  0.41211849,  0.41211849,  0.41211849],\n",
       "       [-0.95892427, -0.2794155 , -0.95892427,  0.6569866 ,  0.98935825,\n",
       "        -0.2794155 ,  0.6569866 , -0.2794155 ,  0.41211849, -0.2794155 ],\n",
       "       [ 0.6569866 ,  0.6569866 ,  0.41211849, -0.95892427,  0.41211849,\n",
       "        -0.95892427,  0.6569866 , -0.2794155 ,  0.41211849, -0.95892427]])"
      ]
     },
     "execution_count": 60,
     "metadata": {},
     "output_type": "execute_result"
    }
   ],
   "source": [
    "np.sin(data)"
   ]
  },
  {
   "cell_type": "code",
   "execution_count": 61,
   "metadata": {},
   "outputs": [
    {
     "data": {
      "text/plain": [
       "array([[-0.14550003, -0.91113026,  0.28366219,  0.28366219, -0.14550003,\n",
       "        -0.91113026,  0.28366219,  0.28366219,  0.28366219,  0.96017029],\n",
       "       [ 0.96017029,  0.96017029,  0.75390225, -0.91113026,  0.96017029,\n",
       "         0.75390225,  0.96017029, -0.14550003, -0.14550003,  0.75390225],\n",
       "       [-0.14550003, -0.91113026,  0.28366219, -0.91113026, -0.91113026,\n",
       "        -0.14550003, -0.91113026,  0.28366219, -0.91113026,  0.28366219],\n",
       "       [-0.14550003,  0.28366219,  0.75390225, -0.91113026, -0.91113026,\n",
       "        -0.14550003, -0.91113026,  0.75390225, -0.14550003,  0.96017029],\n",
       "       [-0.91113026, -0.14550003,  0.96017029,  0.96017029, -0.91113026,\n",
       "        -0.91113026, -0.14550003, -0.91113026, -0.91113026,  0.28366219],\n",
       "       [ 0.75390225,  0.75390225, -0.14550003,  0.75390225,  0.28366219,\n",
       "        -0.14550003,  0.75390225,  0.28366219,  0.96017029, -0.91113026],\n",
       "       [ 0.75390225, -0.14550003, -0.14550003, -0.91113026, -0.91113026,\n",
       "         0.75390225,  0.96017029,  0.28366219,  0.96017029,  0.75390225],\n",
       "       [ 0.75390225, -0.91113026, -0.14550003, -0.91113026, -0.14550003,\n",
       "         0.96017029, -0.14550003, -0.91113026, -0.91113026, -0.91113026],\n",
       "       [ 0.28366219,  0.96017029,  0.28366219,  0.75390225, -0.14550003,\n",
       "         0.96017029,  0.75390225,  0.96017029, -0.91113026,  0.96017029],\n",
       "       [ 0.75390225,  0.75390225, -0.91113026,  0.28366219, -0.91113026,\n",
       "         0.28366219,  0.75390225,  0.96017029, -0.91113026,  0.28366219]])"
      ]
     },
     "execution_count": 61,
     "metadata": {},
     "output_type": "execute_result"
    }
   ],
   "source": [
    "np.cos(data)"
   ]
  },
  {
   "cell_type": "code",
   "execution_count": 62,
   "metadata": {},
   "outputs": [
    {
     "data": {
      "text/plain": [
       "array([[8, 6, 8, 8, 9, 7, 7, 7, 5, 7],\n",
       "       [9, 6, 9, 5, 8, 7, 8, 9, 6, 7],\n",
       "       [5, 7, 5, 7, 6, 8, 8, 8, 5, 9],\n",
       "       [5, 9, 9, 9, 6, 7, 9, 9, 7, 5],\n",
       "       [8, 6, 9, 9, 9, 5, 9, 8, 8, 9],\n",
       "       [9, 7, 8, 8, 9, 8, 7, 6, 6, 5],\n",
       "       [5, 6, 9, 9, 8, 7, 6, 8, 7, 7],\n",
       "       [5, 8, 5, 7, 9, 5, 5, 9, 6, 6],\n",
       "       [5, 8, 9, 8, 9, 6, 6, 9, 9, 9],\n",
       "       [6, 7, 5, 6, 5, 9, 7, 9, 6, 5]])"
      ]
     },
     "execution_count": 62,
     "metadata": {},
     "output_type": "execute_result"
    }
   ],
   "source": [
    "data.T"
   ]
  },
  {
   "cell_type": "code",
   "execution_count": 63,
   "metadata": {},
   "outputs": [
    {
     "data": {
      "text/plain": [
       "array([6.5, 7. , 7.6, 7.6, 7.8, 6.9, 7.2, 8.2, 6.5, 6.9])"
      ]
     },
     "execution_count": 63,
     "metadata": {},
     "output_type": "execute_result"
    }
   ],
   "source": [
    "data.mean(axis=1)"
   ]
  },
  {
   "cell_type": "code",
   "execution_count": 64,
   "metadata": {},
   "outputs": [
    {
     "data": {
      "text/plain": [
       "array([1.6881943 , 1.        , 1.74355958, 1.28062485, 1.46969385,\n",
       "       1.22065556, 1.2489996 , 0.9797959 , 1.20415946, 1.57797338])"
      ]
     },
     "execution_count": 64,
     "metadata": {},
     "output_type": "execute_result"
    }
   ],
   "source": [
    "data.std(axis=1)"
   ]
  },
  {
   "cell_type": "code",
   "execution_count": 65,
   "metadata": {},
   "outputs": [],
   "source": [
    "v=np.array([1,2,3,4,5])\n",
    "s=10\n",
    "\n"
   ]
  },
  {
   "cell_type": "code",
   "execution_count": 66,
   "metadata": {},
   "outputs": [
    {
     "data": {
      "text/plain": [
       "array([11, 12, 13, 14, 15])"
      ]
     },
     "execution_count": 66,
     "metadata": {},
     "output_type": "execute_result"
    }
   ],
   "source": [
    "v+s"
   ]
  },
  {
   "cell_type": "code",
   "execution_count": 67,
   "metadata": {},
   "outputs": [
    {
     "data": {
      "text/plain": [
       "array([10, 20, 30, 40, 50])"
      ]
     },
     "execution_count": 67,
     "metadata": {},
     "output_type": "execute_result"
    }
   ],
   "source": [
    "v*s"
   ]
  },
  {
   "cell_type": "code",
   "execution_count": 68,
   "metadata": {},
   "outputs": [
    {
     "data": {
      "text/plain": [
       "array([1, 2, 3, 4, 5], dtype=int32)"
      ]
     },
     "execution_count": 68,
     "metadata": {},
     "output_type": "execute_result"
    }
   ],
   "source": [
    "v%s"
   ]
  },
  {
   "cell_type": "code",
   "execution_count": 69,
   "metadata": {},
   "outputs": [
    {
     "data": {
      "text/plain": [
       "array([-9, -8, -7, -6, -5])"
      ]
     },
     "execution_count": 69,
     "metadata": {},
     "output_type": "execute_result"
    }
   ],
   "source": [
    "v-s"
   ]
  },
  {
   "cell_type": "code",
   "execution_count": 70,
   "metadata": {},
   "outputs": [
    {
     "data": {
      "text/plain": [
       "array([0.1, 0.2, 0.3, 0.4, 0.5])"
      ]
     },
     "execution_count": 70,
     "metadata": {},
     "output_type": "execute_result"
    }
   ],
   "source": [
    "v/s"
   ]
  },
  {
   "cell_type": "code",
   "execution_count": 71,
   "metadata": {},
   "outputs": [],
   "source": [
    "a=np.array([[1],[2],[3],[4],[5]])"
   ]
  },
  {
   "cell_type": "code",
   "execution_count": 72,
   "metadata": {},
   "outputs": [
    {
     "data": {
      "text/plain": [
       "(5, 1)"
      ]
     },
     "execution_count": 72,
     "metadata": {},
     "output_type": "execute_result"
    }
   ],
   "source": [
    "a.shape"
   ]
  },
  {
   "cell_type": "code",
   "execution_count": 73,
   "metadata": {},
   "outputs": [
    {
     "data": {
      "text/plain": [
       "array([[ 2,  3,  4,  5,  6],\n",
       "       [ 3,  4,  5,  6,  7],\n",
       "       [ 4,  5,  6,  7,  8],\n",
       "       [ 5,  6,  7,  8,  9],\n",
       "       [ 6,  7,  8,  9, 10]])"
      ]
     },
     "execution_count": 73,
     "metadata": {},
     "output_type": "execute_result"
    }
   ],
   "source": [
    "a+v"
   ]
  },
  {
   "cell_type": "code",
   "execution_count": 74,
   "metadata": {},
   "outputs": [],
   "source": [
    "a=np.random.randint(1,5,size=(10,2))"
   ]
  },
  {
   "cell_type": "code",
   "execution_count": 75,
   "metadata": {},
   "outputs": [],
   "source": [
    "b=np.random.randint(1,5,size=(5,2))"
   ]
  },
  {
   "cell_type": "code",
   "execution_count": 76,
   "metadata": {},
   "outputs": [
    {
     "data": {
      "text/plain": [
       "array([[2, 1],\n",
       "       [2, 3],\n",
       "       [2, 1],\n",
       "       [1, 1],\n",
       "       [4, 3],\n",
       "       [3, 1],\n",
       "       [1, 4],\n",
       "       [2, 1],\n",
       "       [2, 3],\n",
       "       [4, 1]])"
      ]
     },
     "execution_count": 76,
     "metadata": {},
     "output_type": "execute_result"
    }
   ],
   "source": [
    "a"
   ]
  },
  {
   "cell_type": "code",
   "execution_count": 77,
   "metadata": {},
   "outputs": [
    {
     "data": {
      "text/plain": [
       "array([[3, 3],\n",
       "       [4, 2],\n",
       "       [2, 3],\n",
       "       [1, 1],\n",
       "       [1, 1]])"
      ]
     },
     "execution_count": 77,
     "metadata": {},
     "output_type": "execute_result"
    }
   ],
   "source": [
    "b"
   ]
  },
  {
   "cell_type": "code",
   "execution_count": 79,
   "metadata": {},
   "outputs": [
    {
     "data": {
      "text/plain": [
       "array([[[2, 1],\n",
       "        [2, 3],\n",
       "        [2, 1],\n",
       "        [1, 1],\n",
       "        [4, 3],\n",
       "        [3, 1],\n",
       "        [1, 4],\n",
       "        [2, 1],\n",
       "        [2, 3],\n",
       "        [4, 1]]])"
      ]
     },
     "execution_count": 79,
     "metadata": {},
     "output_type": "execute_result"
    }
   ],
   "source": [
    "a.reshape(1,10,2)"
   ]
  },
  {
   "cell_type": "code",
   "execution_count": 80,
   "metadata": {},
   "outputs": [
    {
     "data": {
      "text/plain": [
       "array([[[ 1,  2],\n",
       "        [ 1,  0],\n",
       "        [ 1,  2],\n",
       "        [ 2,  2],\n",
       "        [-1,  0],\n",
       "        [ 0,  2],\n",
       "        [ 2, -1],\n",
       "        [ 1,  2],\n",
       "        [ 1,  0],\n",
       "        [-1,  2]],\n",
       "\n",
       "       [[ 2,  1],\n",
       "        [ 2, -1],\n",
       "        [ 2,  1],\n",
       "        [ 3,  1],\n",
       "        [ 0, -1],\n",
       "        [ 1,  1],\n",
       "        [ 3, -2],\n",
       "        [ 2,  1],\n",
       "        [ 2, -1],\n",
       "        [ 0,  1]],\n",
       "\n",
       "       [[ 0,  2],\n",
       "        [ 0,  0],\n",
       "        [ 0,  2],\n",
       "        [ 1,  2],\n",
       "        [-2,  0],\n",
       "        [-1,  2],\n",
       "        [ 1, -1],\n",
       "        [ 0,  2],\n",
       "        [ 0,  0],\n",
       "        [-2,  2]],\n",
       "\n",
       "       [[-1,  0],\n",
       "        [-1, -2],\n",
       "        [-1,  0],\n",
       "        [ 0,  0],\n",
       "        [-3, -2],\n",
       "        [-2,  0],\n",
       "        [ 0, -3],\n",
       "        [-1,  0],\n",
       "        [-1, -2],\n",
       "        [-3,  0]],\n",
       "\n",
       "       [[-1,  0],\n",
       "        [-1, -2],\n",
       "        [-1,  0],\n",
       "        [ 0,  0],\n",
       "        [-3, -2],\n",
       "        [-2,  0],\n",
       "        [ 0, -3],\n",
       "        [-1,  0],\n",
       "        [-1, -2],\n",
       "        [-3,  0]]])"
      ]
     },
     "execution_count": 80,
     "metadata": {},
     "output_type": "execute_result"
    }
   ],
   "source": [
    "b.reshape(5,1,2)-a.reshape(1,10,2)"
   ]
  },
  {
   "cell_type": "code",
   "execution_count": 2,
   "metadata": {},
   "outputs": [
    {
     "data": {
      "image/png": "[encoded data removed]",
      "text/plain": [
       "<Figure size 432x288 with 1 Axes>"
      ]
     },
     "metadata": {
      "needs_background": "light"
     },
     "output_type": "display_data"
    }
   ],
   "source": [
    "import numpy as np\n",
    "import matplotlib.pyplot as plt\n",
    "x=np.arange(0,3*np.pi,0.1)\n",
    "y=np.sin(x)\n",
    "plt.plot(x,y)\n",
    "plt.show()"
   ]
  },
  {
   "cell_type": "code",
   "execution_count": 3,
   "metadata": {},
   "outputs": [
    {
     "data": {
      "image/png": "[encoded data removed]",
      "text/plain": [
       "<Figure size 432x288 with 1 Axes>"
      ]
     },
     "metadata": {
      "needs_background": "light"
     },
     "output_type": "display_data"
    }
   ],
   "source": [
    "x=np.arange(0,3*np.pi,0.1)\n",
    "y=np.cos(x)\n",
    "plt.plot(x,y)\n",
    "plt.show()"
   ]
  },
  {
   "cell_type": "code",
   "execution_count": null,
   "metadata": {},
   "outputs": [],
   "source": []
  }
 ],
 "metadata": {
  "kernelspec": {
   "display_name": "Python 3",
   "language": "python",
   "name": "python3"
  },
  "language_info": {
   "codemirror_mode": {
    "name": "ipython",
    "version": 3
   },
   "file_extension": ".py",
   "mimetype": "text/x-python",
   "name": "python",
   "nbconvert_exporter": "python",
   "pygments_lexer": "ipython3",
   "version": "3.7.0"
  }
 },
 "nbformat": 4,
 "nbformat_minor": 2
}
